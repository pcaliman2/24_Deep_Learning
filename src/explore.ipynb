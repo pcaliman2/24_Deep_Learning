{
    "cells": [
        {
            "cell_type": "markdown",
            "metadata": {},
            "source": [
                "# Explore here"
            ]
        },
        {
            "cell_type": "code",
            "execution_count": 8,
            "metadata": {},
            "outputs": [],
            "source": [
                "import numpy as np\n",
                "import pandas as pd \n",
                "from keras.utils import to_categorical\n",
                "from sklearn.model_selection import train_test_split\n",
                "import matplotlib.pyplot as plt\n",
                "import tensorflow as tf\n",
                "import random\n",
                "import os"
            ]
        },
        {
            "cell_type": "code",
            "execution_count": null,
            "metadata": {},
            "outputs": [],
            "source": [
                "files = os.listdir(\"../train\")\n",
                "#Ya que todos los archivos comienzan con la palabra cat o dog los podemos dividir usando eso\n",
                "\n",
                "categories = ['dog' if file.split('.')[0] == 'dog' else 'cat' for file in files]\n",
                "\n",
                "df_train = pd.DataFrame({'filename': files, 'category': categories})\n",
                "df_train.head()"
            ]
        },
        {
            "cell_type": "code",
            "execution_count": null,
            "metadata": {},
            "outputs": [],
            "source": [
                "print(df_train['category'].value_counts())"
            ]
        },
        {
            "cell_type": "code",
            "execution_count": null,
            "metadata": {},
            "outputs": [],
            "source": [
                "train_df, validate_df = train_test_split(df_train, test_size=0.20, random_state=42)\n",
                "train_df = train_df.reset_index(drop=True)\n",
                "validate_df = validate_df.reset_index(drop=True)"
            ]
        },
        {
            "cell_type": "code",
            "execution_count": null,
            "metadata": {},
            "outputs": [],
            "source": [
                "files_test = os.listdir(\"../test1\")\n",
                "df_test = pd.DataFrame({'filename': files_test})\n",
                "\n",
                "df_test.head()"
            ]
        },
        {
            "cell_type": "code",
            "execution_count": null,
            "metadata": {},
            "outputs": [],
            "source": [
                "from PIL import Image\n",
                "\n",
                "dog_images = [file for file in files if file.startswith('dog')] #filtro solo los perros\n",
                "\n",
                "dog_images = dog_images[:9]\n",
                "\n",
                "fig, axes = plt.subplots(3, 3, figsize=(10, 10))\n",
                "\n",
                "for i, ax in enumerate(axes.flat):\n",
                "    img_path = os.path.join('../train', dog_images[i])  # Ruta completa de la imagen\n",
                "    img = Image.open(img_path)  # Cargar la imagen\n",
                "    ax.imshow(img)  # Mostrar imagen\n",
                "    ax.axis(\"off\")  # Ocultar ejes\n",
                "    ax.set_title(dog_images[i])  # Mostrar el nombre del archivo\n",
                "\n",
                "plt.tight_layout()  # Ajustar el diseño\n",
                "plt.show() "
            ]
        },
        {
            "cell_type": "code",
            "execution_count": null,
            "metadata": {},
            "outputs": [],
            "source": []
        },
        {
            "cell_type": "code",
            "execution_count": null,
            "metadata": {},
            "outputs": [],
            "source": []
        }
    ],
    "metadata": {
        "kernelspec": {
            "display_name": "Python (venv-perceptron)",
            "language": "python",
            "name": "venv-perceptron"
        },
        "language_info": {
            "codemirror_mode": {
                "name": "ipython",
                "version": 3
            },
            "file_extension": ".py",
            "mimetype": "text/x-python",
            "name": "python",
            "nbconvert_exporter": "python",
            "pygments_lexer": "ipython3",
            "version": "3.10.2"
        },
        "orig_nbformat": 4
    },
    "nbformat": 4,
    "nbformat_minor": 2
}
